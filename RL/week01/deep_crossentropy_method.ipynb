{
  "cells": [
    {
      "cell_type": "markdown",
      "metadata": {
        "id": "view-in-github",
        "colab_type": "text"
      },
      "source": [
        "<a href=\"https://colab.research.google.com/github/Alexruab/ML_Homework/blob/main/deep_crossentropy_method.ipynb\" target=\"_parent\"><img src=\"https://colab.research.google.com/assets/colab-badge.svg\" alt=\"Open In Colab\"/></a>"
      ]
    },
    {
      "cell_type": "markdown",
      "metadata": {
        "id": "I_i1q1TWG9zH"
      },
      "source": [
        "# Deep Crossentropy method\n",
        "\n",
        "In this section we'll extend your CEM implementation with neural networks! You will train a multi-layer neural network to solve simple continuous state space games. __Please make sure you're done with tabular crossentropy method from the previous notebook.__\n",
        "\n",
        "![img](https://watanimg.elwatannews.com/old_news_images/large/249765_Large_20140709045740_11.jpg)\n",
        "\n"
      ]
    },
    {
      "cell_type": "code",
      "execution_count": 1,
      "metadata": {
        "id": "t4CJ1sRyG9zJ",
        "colab": {
          "base_uri": "https://localhost:8080/"
        },
        "outputId": "595c6520-947a-4252-a84d-60d27c184ffd"
      },
      "outputs": [
        {
          "output_type": "stream",
          "name": "stdout",
          "text": [
            "W: Skipping acquire of configured file 'main/source/Sources' as repository 'https://r2u.stat.illinois.edu/ubuntu jammy InRelease' does not seem to provide it (sources.list entry misspelt?)\n",
            "Starting virtual X frame buffer: Xvfb.\n"
          ]
        }
      ],
      "source": [
        "import sys, os\n",
        "if 'google.colab' in sys.modules and not os.path.exists('.setup_complete'):\n",
        "    !wget -q https://raw.githubusercontent.com/yandexdataschool/Practical_RL/master/setup_colab.sh -O- | bash\n",
        "    !touch .setup_complete\n",
        "\n",
        "# This code creates a virtual display to draw game images on.\n",
        "# It will have no effect if your machine has a monitor.\n",
        "if type(os.environ.get(\"DISPLAY\")) is not str or len(os.environ.get(\"DISPLAY\")) == 0:\n",
        "    !bash ../xvfb start\n",
        "    os.environ['DISPLAY'] = ':1'"
      ]
    },
    {
      "cell_type": "code",
      "execution_count": 2,
      "metadata": {
        "id": "C2xd5vPwPVCb",
        "colab": {
          "base_uri": "https://localhost:8080/"
        },
        "outputId": "87fdb73a-2c46-42bd-e19c-739d3121d65b"
      },
      "outputs": [
        {
          "output_type": "stream",
          "name": "stdout",
          "text": [
            "Requirement already satisfied: gymnasium[classic_control,toy_text] in /usr/local/lib/python3.11/dist-packages (1.1.1)\n",
            "Requirement already satisfied: numpy>=1.21.0 in /usr/local/lib/python3.11/dist-packages (from gymnasium[classic_control,toy_text]) (2.0.2)\n",
            "Requirement already satisfied: cloudpickle>=1.2.0 in /usr/local/lib/python3.11/dist-packages (from gymnasium[classic_control,toy_text]) (3.1.1)\n",
            "Requirement already satisfied: typing-extensions>=4.3.0 in /usr/local/lib/python3.11/dist-packages (from gymnasium[classic_control,toy_text]) (4.13.1)\n",
            "Requirement already satisfied: farama-notifications>=0.0.1 in /usr/local/lib/python3.11/dist-packages (from gymnasium[classic_control,toy_text]) (0.0.4)\n",
            "Requirement already satisfied: pygame>=2.1.3 in /usr/local/lib/python3.11/dist-packages (from gymnasium[classic_control,toy_text]) (2.6.1)\n"
          ]
        }
      ],
      "source": [
        "# Install gymnasium if you didn't\n",
        "!pip install \"gymnasium[toy_text,classic_control]\""
      ]
    },
    {
      "cell_type": "code",
      "execution_count": 3,
      "metadata": {
        "id": "_2zbc7ahG9zK",
        "colab": {
          "base_uri": "https://localhost:8080/",
          "height": 465
        },
        "outputId": "b4495b36-f9fc-4a14-d3f1-90f2a13c35ff"
      },
      "outputs": [
        {
          "output_type": "stream",
          "name": "stderr",
          "text": [
            "/usr/local/lib/python3.11/dist-packages/gymnasium/envs/registration.py:519: DeprecationWarning: \u001b[33mWARN: The environment CartPole-v0 is out of date. You should consider upgrading to version `v1`.\u001b[0m\n",
            "  logger.deprecation(\n"
          ]
        },
        {
          "output_type": "stream",
          "name": "stdout",
          "text": [
            "state vector dim = 4\n",
            "n_actions = 2\n"
          ]
        },
        {
          "output_type": "display_data",
          "data": {
            "text/plain": [
              "<Figure size 640x480 with 1 Axes>"
            ],
            "image/png": "[encoded data removed]"
          },
          "metadata": {}
        }
      ],
      "source": [
        "import gymnasium as gym\n",
        "import numpy as np\n",
        "import matplotlib.pyplot as plt\n",
        "%matplotlib inline\n",
        "\n",
        "# if you see \"<classname> has no attribute .env\", remove .env or update gym\n",
        "env = gym.make(\"CartPole-v0\", render_mode=\"rgb_array\").env\n",
        "\n",
        "env.reset()\n",
        "n_actions = env.action_space.n\n",
        "state_dim = env.observation_space.shape[0]\n",
        "\n",
        "plt.imshow(env.render())\n",
        "print(\"state vector dim =\", state_dim)\n",
        "print(\"n_actions =\", n_actions)\n",
        "\n",
        "env.close()"
      ]
    },
    {
      "cell_type": "markdown",
      "metadata": {
        "id": "Z72_alhdG9zK"
      },
      "source": [
        "# Neural Network Policy\n",
        "\n",
        "For this assignment we'll utilize the simplified neural network implementation from __[Scikit-learn](https://scikit-learn.org/stable/modules/generated/sklearn.neural_network.MLPClassifier.html)__. Here's what you'll need:\n",
        "\n",
        "* `agent.partial_fit(states, actions)` - make a single training pass over the data. Maximize the probability of :actions: from :states:\n",
        "* `agent.predict_proba(states)` - predict probabilities of all actions, a matrix of shape __[len(states), n_actions]__\n"
      ]
    },
    {
      "cell_type": "code",
      "execution_count": 4,
      "metadata": {
        "id": "wLItY4unG9zL",
        "colab": {
          "base_uri": "https://localhost:8080/",
          "height": 80
        },
        "outputId": "0e07a49f-239d-461a-87de-6036f2ecb8d1"
      },
      "outputs": [
        {
          "output_type": "execute_result",
          "data": {
            "text/plain": [
              "MLPClassifier(activation='tanh', hidden_layer_sizes=(20, 20))"
            ],
            "text/html": [
              "<style>#sk-container-id-1 {\n",
              "  /* Definition of color scheme common for light and dark mode */\n",
              "  --sklearn-color-text: #000;\n",
              "  --sklearn-color-text-muted: #666;\n",
              "  --sklearn-color-line: gray;\n",
              "  /* Definition of color scheme for unfitted estimators */\n",
              "  --sklearn-color-unfitted-level-0: #fff5e6;\n",
              "  --sklearn-color-unfitted-level-1: #f6e4d2;\n",
              "  --sklearn-color-unfitted-level-2: #ffe0b3;\n",
              "  --sklearn-color-unfitted-level-3: chocolate;\n",
              "  /* Definition of color scheme for fitted estimators */\n",
              "  --sklearn-color-fitted-level-0: #f0f8ff;\n",
              "  --sklearn-color-fitted-level-1: #d4ebff;\n",
              "  --sklearn-color-fitted-level-2: #b3dbfd;\n",
              "  --sklearn-color-fitted-level-3: cornflowerblue;\n",
              "\n",
              "  /* Specific color for light theme */\n",
              "  --sklearn-color-text-on-default-background: var(--sg-text-color, var(--theme-code-foreground, var(--jp-content-font-color1, black)));\n",
              "  --sklearn-color-background: var(--sg-background-color, var(--theme-background, var(--jp-layout-color0, white)));\n",
              "  --sklearn-color-border-box: var(--sg-text-color, var(--theme-code-foreground, var(--jp-content-font-color1, black)));\n",
              "  --sklearn-color-icon: #696969;\n",
              "\n",
              "  @media (prefers-color-scheme: dark) {\n",
              "    /* Redefinition of color scheme for dark theme */\n",
              "    --sklearn-color-text-on-default-background: var(--sg-text-color, var(--theme-code-foreground, var(--jp-content-font-color1, white)));\n",
              "    --sklearn-color-background: var(--sg-background-color, var(--theme-background, var(--jp-layout-color0, #111)));\n",
              "    --sklearn-color-border-box: var(--sg-text-color, var(--theme-code-foreground, var(--jp-content-font-color1, white)));\n",
              "    --sklearn-color-icon: #878787;\n",
              "  }\n",
              "}\n",
              "\n",
              "#sk-container-id-1 {\n",
              "  color: var(--sklearn-color-text);\n",
              "}\n",
              "\n",
              "#sk-container-id-1 pre {\n",
              "  padding: 0;\n",
              "}\n",
              "\n",
              "#sk-container-id-1 input.sk-hidden--visually {\n",
              "  border: 0;\n",
              "  clip: rect(1px 1px 1px 1px);\n",
              "  clip: rect(1px, 1px, 1px, 1px);\n",
              "  height: 1px;\n",
              "  margin: -1px;\n",
              "  overflow: hidden;\n",
              "  padding: 0;\n",
              "  position: absolute;\n",
              "  width: 1px;\n",
              "}\n",
              "\n",
              "#sk-container-id-1 div.sk-dashed-wrapped {\n",
              "  border: 1px dashed var(--sklearn-color-line);\n",
              "  margin: 0 0.4em 0.5em 0.4em;\n",
              "  box-sizing: border-box;\n",
              "  padding-bottom: 0.4em;\n",
              "  background-color: var(--sklearn-color-background);\n",
              "}\n",
              "\n",
              "#sk-container-id-1 div.sk-container {\n",
              "  /* jupyter's `normalize.less` sets `[hidden] { display: none; }`\n",
              "     but bootstrap.min.css set `[hidden] { display: none !important; }`\n",
              "     so we also need the `!important` here to be able to override the\n",
              "     default hidden behavior on the sphinx rendered scikit-learn.org.\n",
              "     See: https://github.com/scikit-learn/scikit-learn/issues/21755 */\n",
              "  display: inline-block !important;\n",
              "  position: relative;\n",
              "}\n",
              "\n",
              "#sk-container-id-1 div.sk-text-repr-fallback {\n",
              "  display: none;\n",
              "}\n",
              "\n",
              "div.sk-parallel-item,\n",
              "div.sk-serial,\n",
              "div.sk-item {\n",
              "  /* draw centered vertical line to link estimators */\n",
              "  background-image: linear-gradient(var(--sklearn-color-text-on-default-background), var(--sklearn-color-text-on-default-background));\n",
              "  background-size: 2px 100%;\n",
              "  background-repeat: no-repeat;\n",
              "  background-position: center center;\n",
              "}\n",
              "\n",
              "/* Parallel-specific style estimator block */\n",
              "\n",
              "#sk-container-id-1 div.sk-parallel-item::after {\n",
              "  content: \"\";\n",
              "  width: 100%;\n",
              "  border-bottom: 2px solid var(--sklearn-color-text-on-default-background);\n",
              "  flex-grow: 1;\n",
              "}\n",
              "\n",
              "#sk-container-id-1 div.sk-parallel {\n",
              "  display: flex;\n",
              "  align-items: stretch;\n",
              "  justify-content: center;\n",
              "  background-color: var(--sklearn-color-background);\n",
              "  position: relative;\n",
              "}\n",
              "\n",
              "#sk-container-id-1 div.sk-parallel-item {\n",
              "  display: flex;\n",
              "  flex-direction: column;\n",
              "}\n",
              "\n",
              "#sk-container-id-1 div.sk-parallel-item:first-child::after {\n",
              "  align-self: flex-end;\n",
              "  width: 50%;\n",
              "}\n",
              "\n",
              "#sk-container-id-1 div.sk-parallel-item:last-child::after {\n",
              "  align-self: flex-start;\n",
              "  width: 50%;\n",
              "}\n",
              "\n",
              "#sk-container-id-1 div.sk-parallel-item:only-child::after {\n",
              "  width: 0;\n",
              "}\n",
              "\n",
              "/* Serial-specific style estimator block */\n",
              "\n",
              "#sk-container-id-1 div.sk-serial {\n",
              "  display: flex;\n",
              "  flex-direction: column;\n",
              "  align-items: center;\n",
              "  background-color: var(--sklearn-color-background);\n",
              "  padding-right: 1em;\n",
              "  padding-left: 1em;\n",
              "}\n",
              "\n",
              "\n",
              "/* Toggleable style: style used for estimator/Pipeline/ColumnTransformer box that is\n",
              "clickable and can be expanded/collapsed.\n",
              "- Pipeline and ColumnTransformer use this feature and define the default style\n",
              "- Estimators will overwrite some part of the style using the `sk-estimator` class\n",
              "*/\n",
              "\n",
              "/* Pipeline and ColumnTransformer style (default) */\n",
              "\n",
              "#sk-container-id-1 div.sk-toggleable {\n",
              "  /* Default theme specific background. It is overwritten whether we have a\n",
              "  specific estimator or a Pipeline/ColumnTransformer */\n",
              "  background-color: var(--sklearn-color-background);\n",
              "}\n",
              "\n",
              "/* Toggleable label */\n",
              "#sk-container-id-1 label.sk-toggleable__label {\n",
              "  cursor: pointer;\n",
              "  display: flex;\n",
              "  width: 100%;\n",
              "  margin-bottom: 0;\n",
              "  padding: 0.5em;\n",
              "  box-sizing: border-box;\n",
              "  text-align: center;\n",
              "  align-items: start;\n",
              "  justify-content: space-between;\n",
              "  gap: 0.5em;\n",
              "}\n",
              "\n",
              "#sk-container-id-1 label.sk-toggleable__label .caption {\n",
              "  font-size: 0.6rem;\n",
              "  font-weight: lighter;\n",
              "  color: var(--sklearn-color-text-muted);\n",
              "}\n",
              "\n",
              "#sk-container-id-1 label.sk-toggleable__label-arrow:before {\n",
              "  /* Arrow on the left of the label */\n",
              "  content: \"▸\";\n",
              "  float: left;\n",
              "  margin-right: 0.25em;\n",
              "  color: var(--sklearn-color-icon);\n",
              "}\n",
              "\n",
              "#sk-container-id-1 label.sk-toggleable__label-arrow:hover:before {\n",
              "  color: var(--sklearn-color-text);\n",
              "}\n",
              "\n",
              "/* Toggleable content - dropdown */\n",
              "\n",
              "#sk-container-id-1 div.sk-toggleable__content {\n",
              "  max-height: 0;\n",
              "  max-width: 0;\n",
              "  overflow: hidden;\n",
              "  text-align: left;\n",
              "  /* unfitted */\n",
              "  background-color: var(--sklearn-color-unfitted-level-0);\n",
              "}\n",
              "\n",
              "#sk-container-id-1 div.sk-toggleable__content.fitted {\n",
              "  /* fitted */\n",
              "  background-color: var(--sklearn-color-fitted-level-0);\n",
              "}\n",
              "\n",
              "#sk-container-id-1 div.sk-toggleable__content pre {\n",
              "  margin: 0.2em;\n",
              "  border-radius: 0.25em;\n",
              "  color: var(--sklearn-color-text);\n",
              "  /* unfitted */\n",
              "  background-color: var(--sklearn-color-unfitted-level-0);\n",
              "}\n",
              "\n",
              "#sk-container-id-1 div.sk-toggleable__content.fitted pre {\n",
              "  /* unfitted */\n",
              "  background-color: var(--sklearn-color-fitted-level-0);\n",
              "}\n",
              "\n",
              "#sk-container-id-1 input.sk-toggleable__control:checked~div.sk-toggleable__content {\n",
              "  /* Expand drop-down */\n",
              "  max-height: 200px;\n",
              "  max-width: 100%;\n",
              "  overflow: auto;\n",
              "}\n",
              "\n",
              "#sk-container-id-1 input.sk-toggleable__control:checked~label.sk-toggleable__label-arrow:before {\n",
              "  content: \"▾\";\n",
              "}\n",
              "\n",
              "/* Pipeline/ColumnTransformer-specific style */\n",
              "\n",
              "#sk-container-id-1 div.sk-label input.sk-toggleable__control:checked~label.sk-toggleable__label {\n",
              "  color: var(--sklearn-color-text);\n",
              "  background-color: var(--sklearn-color-unfitted-level-2);\n",
              "}\n",
              "\n",
              "#sk-container-id-1 div.sk-label.fitted input.sk-toggleable__control:checked~label.sk-toggleable__label {\n",
              "  background-color: var(--sklearn-color-fitted-level-2);\n",
              "}\n",
              "\n",
              "/* Estimator-specific style */\n",
              "\n",
              "/* Colorize estimator box */\n",
              "#sk-container-id-1 div.sk-estimator input.sk-toggleable__control:checked~label.sk-toggleable__label {\n",
              "  /* unfitted */\n",
              "  background-color: var(--sklearn-color-unfitted-level-2);\n",
              "}\n",
              "\n",
              "#sk-container-id-1 div.sk-estimator.fitted input.sk-toggleable__control:checked~label.sk-toggleable__label {\n",
              "  /* fitted */\n",
              "  background-color: var(--sklearn-color-fitted-level-2);\n",
              "}\n",
              "\n",
              "#sk-container-id-1 div.sk-label label.sk-toggleable__label,\n",
              "#sk-container-id-1 div.sk-label label {\n",
              "  /* The background is the default theme color */\n",
              "  color: var(--sklearn-color-text-on-default-background);\n",
              "}\n",
              "\n",
              "/* On hover, darken the color of the background */\n",
              "#sk-container-id-1 div.sk-label:hover label.sk-toggleable__label {\n",
              "  color: var(--sklearn-color-text);\n",
              "  background-color: var(--sklearn-color-unfitted-level-2);\n",
              "}\n",
              "\n",
              "/* Label box, darken color on hover, fitted */\n",
              "#sk-container-id-1 div.sk-label.fitted:hover label.sk-toggleable__label.fitted {\n",
              "  color: var(--sklearn-color-text);\n",
              "  background-color: var(--sklearn-color-fitted-level-2);\n",
              "}\n",
              "\n",
              "/* Estimator label */\n",
              "\n",
              "#sk-container-id-1 div.sk-label label {\n",
              "  font-family: monospace;\n",
              "  font-weight: bold;\n",
              "  display: inline-block;\n",
              "  line-height: 1.2em;\n",
              "}\n",
              "\n",
              "#sk-container-id-1 div.sk-label-container {\n",
              "  text-align: center;\n",
              "}\n",
              "\n",
              "/* Estimator-specific */\n",
              "#sk-container-id-1 div.sk-estimator {\n",
              "  font-family: monospace;\n",
              "  border: 1px dotted var(--sklearn-color-border-box);\n",
              "  border-radius: 0.25em;\n",
              "  box-sizing: border-box;\n",
              "  margin-bottom: 0.5em;\n",
              "  /* unfitted */\n",
              "  background-color: var(--sklearn-color-unfitted-level-0);\n",
              "}\n",
              "\n",
              "#sk-container-id-1 div.sk-estimator.fitted {\n",
              "  /* fitted */\n",
              "  background-color: var(--sklearn-color-fitted-level-0);\n",
              "}\n",
              "\n",
              "/* on hover */\n",
              "#sk-container-id-1 div.sk-estimator:hover {\n",
              "  /* unfitted */\n",
              "  background-color: var(--sklearn-color-unfitted-level-2);\n",
              "}\n",
              "\n",
              "#sk-container-id-1 div.sk-estimator.fitted:hover {\n",
              "  /* fitted */\n",
              "  background-color: var(--sklearn-color-fitted-level-2);\n",
              "}\n",
              "\n",
              "/* Specification for estimator info (e.g. \"i\" and \"?\") */\n",
              "\n",
              "/* Common style for \"i\" and \"?\" */\n",
              "\n",
              ".sk-estimator-doc-link,\n",
              "a:link.sk-estimator-doc-link,\n",
              "a:visited.sk-estimator-doc-link {\n",
              "  float: right;\n",
              "  font-size: smaller;\n",
              "  line-height: 1em;\n",
              "  font-family: monospace;\n",
              "  background-color: var(--sklearn-color-background);\n",
              "  border-radius: 1em;\n",
              "  height: 1em;\n",
              "  width: 1em;\n",
              "  text-decoration: none !important;\n",
              "  margin-left: 0.5em;\n",
              "  text-align: center;\n",
              "  /* unfitted */\n",
              "  border: var(--sklearn-color-unfitted-level-1) 1pt solid;\n",
              "  color: var(--sklearn-color-unfitted-level-1);\n",
              "}\n",
              "\n",
              ".sk-estimator-doc-link.fitted,\n",
              "a:link.sk-estimator-doc-link.fitted,\n",
              "a:visited.sk-estimator-doc-link.fitted {\n",
              "  /* fitted */\n",
              "  border: var(--sklearn-color-fitted-level-1) 1pt solid;\n",
              "  color: var(--sklearn-color-fitted-level-1);\n",
              "}\n",
              "\n",
              "/* On hover */\n",
              "div.sk-estimator:hover .sk-estimator-doc-link:hover,\n",
              ".sk-estimator-doc-link:hover,\n",
              "div.sk-label-container:hover .sk-estimator-doc-link:hover,\n",
              ".sk-estimator-doc-link:hover {\n",
              "  /* unfitted */\n",
              "  background-color: var(--sklearn-color-unfitted-level-3);\n",
              "  color: var(--sklearn-color-background);\n",
              "  text-decoration: none;\n",
              "}\n",
              "\n",
              "div.sk-estimator.fitted:hover .sk-estimator-doc-link.fitted:hover,\n",
              ".sk-estimator-doc-link.fitted:hover,\n",
              "div.sk-label-container:hover .sk-estimator-doc-link.fitted:hover,\n",
              ".sk-estimator-doc-link.fitted:hover {\n",
              "  /* fitted */\n",
              "  background-color: var(--sklearn-color-fitted-level-3);\n",
              "  color: var(--sklearn-color-background);\n",
              "  text-decoration: none;\n",
              "}\n",
              "\n",
              "/* Span, style for the box shown on hovering the info icon */\n",
              ".sk-estimator-doc-link span {\n",
              "  display: none;\n",
              "  z-index: 9999;\n",
              "  position: relative;\n",
              "  font-weight: normal;\n",
              "  right: .2ex;\n",
              "  padding: .5ex;\n",
              "  margin: .5ex;\n",
              "  width: min-content;\n",
              "  min-width: 20ex;\n",
              "  max-width: 50ex;\n",
              "  color: var(--sklearn-color-text);\n",
              "  box-shadow: 2pt 2pt 4pt #999;\n",
              "  /* unfitted */\n",
              "  background: var(--sklearn-color-unfitted-level-0);\n",
              "  border: .5pt solid var(--sklearn-color-unfitted-level-3);\n",
              "}\n",
              "\n",
              ".sk-estimator-doc-link.fitted span {\n",
              "  /* fitted */\n",
              "  background: var(--sklearn-color-fitted-level-0);\n",
              "  border: var(--sklearn-color-fitted-level-3);\n",
              "}\n",
              "\n",
              ".sk-estimator-doc-link:hover span {\n",
              "  display: block;\n",
              "}\n",
              "\n",
              "/* \"?\"-specific style due to the `<a>` HTML tag */\n",
              "\n",
              "#sk-container-id-1 a.estimator_doc_link {\n",
              "  float: right;\n",
              "  font-size: 1rem;\n",
              "  line-height: 1em;\n",
              "  font-family: monospace;\n",
              "  background-color: var(--sklearn-color-background);\n",
              "  border-radius: 1rem;\n",
              "  height: 1rem;\n",
              "  width: 1rem;\n",
              "  text-decoration: none;\n",
              "  /* unfitted */\n",
              "  color: var(--sklearn-color-unfitted-level-1);\n",
              "  border: var(--sklearn-color-unfitted-level-1) 1pt solid;\n",
              "}\n",
              "\n",
              "#sk-container-id-1 a.estimator_doc_link.fitted {\n",
              "  /* fitted */\n",
              "  border: var(--sklearn-color-fitted-level-1) 1pt solid;\n",
              "  color: var(--sklearn-color-fitted-level-1);\n",
              "}\n",
              "\n",
              "/* On hover */\n",
              "#sk-container-id-1 a.estimator_doc_link:hover {\n",
              "  /* unfitted */\n",
              "  background-color: var(--sklearn-color-unfitted-level-3);\n",
              "  color: var(--sklearn-color-background);\n",
              "  text-decoration: none;\n",
              "}\n",
              "\n",
              "#sk-container-id-1 a.estimator_doc_link.fitted:hover {\n",
              "  /* fitted */\n",
              "  background-color: var(--sklearn-color-fitted-level-3);\n",
              "}\n",
              "</style><div id=\"sk-container-id-1\" class=\"sk-top-container\"><div class=\"sk-text-repr-fallback\"><pre>MLPClassifier(activation=&#x27;tanh&#x27;, hidden_layer_sizes=(20, 20))</pre><b>In a Jupyter environment, please rerun this cell to show the HTML representation or trust the notebook. <br />On GitHub, the HTML representation is unable to render, please try loading this page with nbviewer.org.</b></div><div class=\"sk-container\" hidden><div class=\"sk-item\"><div class=\"sk-estimator fitted sk-toggleable\"><input class=\"sk-toggleable__control sk-hidden--visually\" id=\"sk-estimator-id-1\" type=\"checkbox\" checked><label for=\"sk-estimator-id-1\" class=\"sk-toggleable__label fitted sk-toggleable__label-arrow\"><div><div>MLPClassifier</div></div><div><a class=\"sk-estimator-doc-link fitted\" rel=\"noreferrer\" target=\"_blank\" href=\"https://scikit-learn.org/1.6/modules/generated/sklearn.neural_network.MLPClassifier.html\">?<span>Documentation for MLPClassifier</span></a><span class=\"sk-estimator-doc-link fitted\">i<span>Fitted</span></span></div></label><div class=\"sk-toggleable__content fitted\"><pre>MLPClassifier(activation=&#x27;tanh&#x27;, hidden_layer_sizes=(20, 20))</pre></div> </div></div></div></div>"
            ]
          },
          "metadata": {},
          "execution_count": 4
        }
      ],
      "source": [
        "from sklearn.neural_network import MLPClassifier\n",
        "\n",
        "agent = MLPClassifier(\n",
        "    hidden_layer_sizes=(20, 20),\n",
        "    activation=\"tanh\",\n",
        ")\n",
        "\n",
        "# initialize agent to the dimension of state space and number of actions\n",
        "agent.partial_fit([env.reset()[0]] * n_actions, range(n_actions), range(n_actions))\n"
      ]
    },
    {
      "cell_type": "code",
      "execution_count": 5,
      "metadata": {
        "id": "eyFS3oUmG9zL"
      },
      "outputs": [],
      "source": [
        "def generate_session(env, agent, t_max=1000):\n",
        "    \"\"\"\n",
        "    Play a single game using agent neural network.\n",
        "    Terminate when game finishes or after :t_max: steps\n",
        "    \"\"\"\n",
        "    states, actions = [], []\n",
        "    total_reward = 0\n",
        "\n",
        "    s, _ = env.reset()\n",
        "\n",
        "    for t in range(t_max):\n",
        "\n",
        "        # use agent to predict a vector of action probabilities for state :s:\n",
        "        probs = agent.predict_proba([s])[0]\n",
        "\n",
        "        assert probs.shape == (env.action_space.n,), \"make sure probabilities are a vector (hint: np.reshape)\"\n",
        "\n",
        "        # use the probabilities you predicted to pick an action\n",
        "        # sample proportionally to the probabilities, don't just take the most likely action\n",
        "        a = np.random.choice(env.action_space.n, p=probs)\n",
        "        # ^-- hint: try np.random.choice\n",
        "\n",
        "        new_s, r, terminated, truncated, _ = env.step(a)\n",
        "\n",
        "        # record sessions like you did before\n",
        "        states.append(s)\n",
        "        actions.append(a)\n",
        "        total_reward += r\n",
        "\n",
        "        s = new_s\n",
        "        if terminated or truncated:\n",
        "            break\n",
        "    return states, actions, total_reward\n"
      ]
    },
    {
      "cell_type": "code",
      "execution_count": 6,
      "metadata": {
        "id": "4xgrTCgJG9zL",
        "colab": {
          "base_uri": "https://localhost:8080/"
        },
        "outputId": "06b7a84e-f626-4ea5-c483-8043c69b904c"
      },
      "outputs": [
        {
          "output_type": "stream",
          "name": "stdout",
          "text": [
            "states: [[-0.04757928 -0.00621048 -0.00134461 -0.01582236]\n",
            " [-0.04770349 -0.20131312 -0.00166106  0.27643603]\n",
            " [-0.05172975 -0.00616751  0.00386766 -0.01677033]\n",
            " [-0.0518531  -0.20134471  0.00353226  0.27713037]\n",
            " [-0.05588    -0.00627334  0.00907486 -0.01443639]]\n",
            "actions: [0, 1, 0, 1, 0]\n",
            "reward: 5.0\n"
          ]
        }
      ],
      "source": [
        "dummy_states, dummy_actions, dummy_reward = generate_session(env, agent, t_max=5)\n",
        "print(\"states:\", np.stack(dummy_states))\n",
        "print(\"actions:\", dummy_actions)\n",
        "print(\"reward:\", dummy_reward)\n"
      ]
    },
    {
      "cell_type": "markdown",
      "metadata": {
        "id": "p85lt16qG9zL"
      },
      "source": [
        "### CEM steps\n",
        "Deep CEM uses exactly the same strategy as the regular CEM, so you can copy your function code from previous notebook.\n",
        "\n",
        "The only difference is that now each observation is not a number but a `float32` vector."
      ]
    },
    {
      "cell_type": "code",
      "execution_count": 7,
      "metadata": {
        "id": "4On-p7p4G9zL"
      },
      "outputs": [],
      "source": [
        "def select_elites(states_batch, actions_batch, rewards_batch, percentile=50):\n",
        "    \"\"\"\n",
        "    Select states and actions from games that have rewards >= percentile\n",
        "    :param states_batch: list of lists of states, states_batch[session_i][t]\n",
        "    :param actions_batch: list of lists of actions, actions_batch[session_i][t]\n",
        "    :param rewards_batch: list of rewards, rewards_batch[session_i]\n",
        "\n",
        "    :returns: elite_states,elite_actions, both 1D lists of states and respective actions from elite sessions\n",
        "\n",
        "    Please return elite states and actions in their original order\n",
        "    [i.e. sorted by session number and timestep within session]\n",
        "\n",
        "    If you are confused, see examples below. Please don't assume that states are integers\n",
        "    (they will become different later).\n",
        "    \"\"\"\n",
        "\n",
        "    reward_threshold = np.percentile(rewards_batch, percentile)\n",
        "    elite_indices = [i for i, reward in enumerate(rewards_batch) if reward >= reward_threshold]\n",
        "\n",
        "    elite_states = [state for i in elite_indices for state in states_batch[i]]\n",
        "    elite_actions = [action for i in elite_indices for action in actions_batch[i]]\n",
        "\n",
        "    return elite_states, elite_actions\n"
      ]
    },
    {
      "cell_type": "markdown",
      "metadata": {
        "id": "xc40V4DaG9zM"
      },
      "source": [
        "# Training loop\n",
        "Generate sessions, select N best and fit to those."
      ]
    },
    {
      "cell_type": "code",
      "execution_count": 8,
      "metadata": {
        "id": "PPwVKwF7G9zM"
      },
      "outputs": [],
      "source": [
        "from IPython.display import clear_output\n",
        "\n",
        "\n",
        "def show_progress(rewards_batch, log, percentile, reward_range=[-990, +10]):\n",
        "    \"\"\"\n",
        "    A convenience function that displays training progress.\n",
        "    No cool math here, just charts.\n",
        "    \"\"\"\n",
        "\n",
        "    mean_reward = np.mean(rewards_batch)\n",
        "    threshold = np.percentile(rewards_batch, percentile)\n",
        "    log.append([mean_reward, threshold])\n",
        "\n",
        "    clear_output(True)\n",
        "    print(\"mean reward = %.3f, threshold=%.3f\" % (mean_reward, threshold))\n",
        "    plt.figure(figsize=[8, 4])\n",
        "    plt.subplot(1, 2, 1)\n",
        "    plt.plot(list(zip(*log))[0], label=\"Mean rewards\")\n",
        "    plt.plot(list(zip(*log))[1], label=\"Reward thresholds\")\n",
        "    plt.legend()\n",
        "    plt.grid()\n",
        "\n",
        "    plt.subplot(1, 2, 2)\n",
        "    plt.hist(rewards_batch, range=reward_range)\n",
        "    plt.vlines(\n",
        "        [np.percentile(rewards_batch, percentile)],\n",
        "        [0],\n",
        "        [100],\n",
        "        label=\"percentile\",\n",
        "        color=\"red\",\n",
        "    )\n",
        "    plt.legend()\n",
        "    plt.grid()\n",
        "\n",
        "    plt.show()\n"
      ]
    },
    {
      "cell_type": "code",
      "execution_count": 11,
      "metadata": {
        "id": "euK7WRQiG9zM",
        "colab": {
          "base_uri": "https://localhost:8080/",
          "height": 742
        },
        "outputId": "4d0d8aaa-61a1-462c-a3c1-3a28cc85e4f1"
      },
      "outputs": [
        {
          "output_type": "stream",
          "name": "stdout",
          "text": [
            "mean reward = 1000.000, threshold=1000.000\n"
          ]
        },
        {
          "output_type": "display_data",
          "data": {
            "text/plain": [
              "<Figure size 800x400 with 2 Axes>"
            ],
            "image/png": "[encoded data removed]"
          },
          "metadata": {}
        },
        {
          "output_type": "stream",
          "name": "stdout",
          "text": [
            "You Win! You may stop training now via KeyboardInterrupt.\n"
          ]
        },
        {
          "output_type": "error",
          "ename": "KeyboardInterrupt",
          "evalue": "",
          "traceback": [
            "\u001b[0;31m---------------------------------------------------------------------------\u001b[0m",
            "\u001b[0;31mKeyboardInterrupt\u001b[0m                         Traceback (most recent call last)",
            "\u001b[0;32m<ipython-input-11-7219728562de>\u001b[0m in \u001b[0;36m<cell line: 0>\u001b[0;34m()\u001b[0m\n\u001b[1;32m      5\u001b[0m \u001b[0;32mfor\u001b[0m \u001b[0mi\u001b[0m \u001b[0;32min\u001b[0m \u001b[0mrange\u001b[0m\u001b[0;34m(\u001b[0m\u001b[0;36m100\u001b[0m\u001b[0;34m)\u001b[0m\u001b[0;34m:\u001b[0m\u001b[0;34m\u001b[0m\u001b[0;34m\u001b[0m\u001b[0m\n\u001b[1;32m      6\u001b[0m     \u001b[0;31m# generate new sessions\u001b[0m\u001b[0;34m\u001b[0m\u001b[0;34m\u001b[0m\u001b[0m\n\u001b[0;32m----> 7\u001b[0;31m     \u001b[0msessions\u001b[0m \u001b[0;34m=\u001b[0m \u001b[0;34m[\u001b[0m\u001b[0mgenerate_session\u001b[0m\u001b[0;34m(\u001b[0m\u001b[0menv\u001b[0m\u001b[0;34m,\u001b[0m \u001b[0magent\u001b[0m\u001b[0;34m)\u001b[0m \u001b[0;32mfor\u001b[0m \u001b[0m_\u001b[0m \u001b[0;32min\u001b[0m \u001b[0mrange\u001b[0m\u001b[0;34m(\u001b[0m\u001b[0mn_sessions\u001b[0m\u001b[0;34m)\u001b[0m\u001b[0;34m]\u001b[0m\u001b[0;34m\u001b[0m\u001b[0;34m\u001b[0m\u001b[0m\n\u001b[0m\u001b[1;32m      8\u001b[0m \u001b[0;34m\u001b[0m\u001b[0m\n\u001b[1;32m      9\u001b[0m     \u001b[0;31m#states_batch, actions_batch, rewards_batch = map(np.array, zip(*sessions))\u001b[0m\u001b[0;34m\u001b[0m\u001b[0;34m\u001b[0m\u001b[0m\n",
            "\u001b[0;32m<ipython-input-11-7219728562de>\u001b[0m in \u001b[0;36m<listcomp>\u001b[0;34m(.0)\u001b[0m\n\u001b[1;32m      5\u001b[0m \u001b[0;32mfor\u001b[0m \u001b[0mi\u001b[0m \u001b[0;32min\u001b[0m \u001b[0mrange\u001b[0m\u001b[0;34m(\u001b[0m\u001b[0;36m100\u001b[0m\u001b[0;34m)\u001b[0m\u001b[0;34m:\u001b[0m\u001b[0;34m\u001b[0m\u001b[0;34m\u001b[0m\u001b[0m\n\u001b[1;32m      6\u001b[0m     \u001b[0;31m# generate new sessions\u001b[0m\u001b[0;34m\u001b[0m\u001b[0;34m\u001b[0m\u001b[0m\n\u001b[0;32m----> 7\u001b[0;31m     \u001b[0msessions\u001b[0m \u001b[0;34m=\u001b[0m \u001b[0;34m[\u001b[0m\u001b[0mgenerate_session\u001b[0m\u001b[0;34m(\u001b[0m\u001b[0menv\u001b[0m\u001b[0;34m,\u001b[0m \u001b[0magent\u001b[0m\u001b[0;34m)\u001b[0m \u001b[0;32mfor\u001b[0m \u001b[0m_\u001b[0m \u001b[0;32min\u001b[0m \u001b[0mrange\u001b[0m\u001b[0;34m(\u001b[0m\u001b[0mn_sessions\u001b[0m\u001b[0;34m)\u001b[0m\u001b[0;34m]\u001b[0m\u001b[0;34m\u001b[0m\u001b[0;34m\u001b[0m\u001b[0m\n\u001b[0m\u001b[1;32m      8\u001b[0m \u001b[0;34m\u001b[0m\u001b[0m\n\u001b[1;32m      9\u001b[0m     \u001b[0;31m#states_batch, actions_batch, rewards_batch = map(np.array, zip(*sessions))\u001b[0m\u001b[0;34m\u001b[0m\u001b[0;34m\u001b[0m\u001b[0m\n",
            "\u001b[0;32m<ipython-input-5-53586d810186>\u001b[0m in \u001b[0;36mgenerate_session\u001b[0;34m(env, agent, t_max)\u001b[0m\n\u001b[1;32m     18\u001b[0m         \u001b[0;31m# use the probabilities you predicted to pick an action\u001b[0m\u001b[0;34m\u001b[0m\u001b[0;34m\u001b[0m\u001b[0m\n\u001b[1;32m     19\u001b[0m         \u001b[0;31m# sample proportionally to the probabilities, don't just take the most likely action\u001b[0m\u001b[0;34m\u001b[0m\u001b[0;34m\u001b[0m\u001b[0m\n\u001b[0;32m---> 20\u001b[0;31m         \u001b[0ma\u001b[0m \u001b[0;34m=\u001b[0m \u001b[0mnp\u001b[0m\u001b[0;34m.\u001b[0m\u001b[0mrandom\u001b[0m\u001b[0;34m.\u001b[0m\u001b[0mchoice\u001b[0m\u001b[0;34m(\u001b[0m\u001b[0menv\u001b[0m\u001b[0;34m.\u001b[0m\u001b[0maction_space\u001b[0m\u001b[0;34m.\u001b[0m\u001b[0mn\u001b[0m\u001b[0;34m,\u001b[0m \u001b[0mp\u001b[0m\u001b[0;34m=\u001b[0m\u001b[0mprobs\u001b[0m\u001b[0;34m)\u001b[0m\u001b[0;34m\u001b[0m\u001b[0;34m\u001b[0m\u001b[0m\n\u001b[0m\u001b[1;32m     21\u001b[0m         \u001b[0;31m# ^-- hint: try np.random.choice\u001b[0m\u001b[0;34m\u001b[0m\u001b[0;34m\u001b[0m\u001b[0m\n\u001b[1;32m     22\u001b[0m \u001b[0;34m\u001b[0m\u001b[0m\n",
            "\u001b[0;31mKeyboardInterrupt\u001b[0m: "
          ]
        }
      ],
      "source": [
        "n_sessions = 100\n",
        "percentile = 70\n",
        "log = []\n",
        "\n",
        "for i in range(100):\n",
        "    # generate new sessions\n",
        "    sessions = [generate_session(env, agent) for _ in range(n_sessions)]\n",
        "\n",
        "    #states_batch, actions_batch, rewards_batch = map(np.array, zip(*sessions))\n",
        "    states_batch, actions_batch, rewards_batch = zip(*sessions)\n",
        "\n",
        "    elite_states, elite_actions = select_elites(states_batch, actions_batch, rewards_batch, percentile)\n",
        "\n",
        "    agent.partial_fit(np.array(elite_states), np.array(elite_actions))\n",
        "\n",
        "    show_progress(\n",
        "        rewards_batch, log, percentile, reward_range=[0, np.max(rewards_batch)]\n",
        "    )\n",
        "\n",
        "    if np.mean(rewards_batch) > 190:\n",
        "        print(\"You Win! You may stop training now via KeyboardInterrupt.\")\n"
      ]
    },
    {
      "cell_type": "markdown",
      "metadata": {
        "id": "yeNWKjtsG9zM"
      },
      "source": [
        "# Results"
      ]
    },
    {
      "cell_type": "code",
      "execution_count": 12,
      "metadata": {
        "id": "RJwsWl4kG9zM",
        "colab": {
          "base_uri": "https://localhost:8080/"
        },
        "outputId": "2b53dfc2-84cc-47df-9ece-f54a5444f25e"
      },
      "outputs": [
        {
          "output_type": "stream",
          "name": "stderr",
          "text": [
            "/usr/local/lib/python3.11/dist-packages/gymnasium/envs/registration.py:519: DeprecationWarning: \u001b[33mWARN: The environment CartPole-v0 is out of date. You should consider upgrading to version `v1`.\u001b[0m\n",
            "  logger.deprecation(\n"
          ]
        }
      ],
      "source": [
        "# Record sessions\n",
        "\n",
        "from gymnasium.wrappers import RecordVideo\n",
        "\n",
        "with RecordVideo(\n",
        "    env=gym.make(\"CartPole-v0\", render_mode=\"rgb_array\"),\n",
        "    video_folder=\"./videos\",\n",
        "    episode_trigger=lambda episode_number: True,\n",
        ") as env_monitor:\n",
        "    sessions = [generate_session(env_monitor, agent) for _ in range(100)]\n"
      ]
    },
    {
      "cell_type": "code",
      "execution_count": 13,
      "metadata": {
        "id": "kLPXdME7G9zN",
        "colab": {
          "base_uri": "https://localhost:8080/",
          "height": 502
        },
        "outputId": "0c2474de-4cd5-4d31-8cc1-76956d2ae378"
      },
      "outputs": [
        {
          "output_type": "execute_result",
          "data": {
            "text/plain": [
              "<IPython.core.display.HTML object>"
            ],
            "text/html": [
              "\n",
              "<video width=\"640\" height=\"480\" controls>\n",
              "  <source src=\"data:video/mp4;base64,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\" type=\"video/mp4\">\n",
              "</video>\n"
            ]
          },
          "metadata": {},
          "execution_count": 13
        }
      ],
      "source": [
        "# Show video. This may not work in some setups. If it doesn't\n",
        "# work for you, you can download the videos and view them locally.\n",
        "\n",
        "from pathlib import Path\n",
        "from base64 import b64encode\n",
        "from IPython.display import HTML\n",
        "\n",
        "video_paths = sorted([s for s in Path(\"videos\").iterdir() if s.suffix == \".mp4\"])\n",
        "video_path = video_paths[-1]  # You can also try other indices\n",
        "\n",
        "if \"google.colab\" in sys.modules:\n",
        "    # https://stackoverflow.com/a/57378660/1214547\n",
        "    with video_path.open(\"rb\") as fp:\n",
        "        mp4 = fp.read()\n",
        "    data_url = \"data:video/mp4;base64,\" + b64encode(mp4).decode()\n",
        "else:\n",
        "    data_url = str(video_path)\n",
        "\n",
        "HTML(\n",
        "    \"\"\"\n",
        "<video width=\"640\" height=\"480\" controls>\n",
        "  <source src=\"{}\" type=\"video/mp4\">\n",
        "</video>\n",
        "\"\"\".format(\n",
        "        data_url\n",
        "    )\n",
        ")\n"
      ]
    },
    {
      "cell_type": "markdown",
      "metadata": {
        "id": "6d_3oOQ1G9zN"
      },
      "source": [
        "# Homework part I\n",
        "\n",
        "### Tabular crossentropy method\n",
        "\n",
        "You may have noticed that the taxi problem quickly converges from -100 to a near-optimal score and then descends back into -50/-100. This is in part because the environment has some innate randomness. Namely, the starting points of passenger/driver change from episode to episode.\n",
        "\n",
        "### Tasks\n",
        "- __1.1__ (2 pts) Find out how the algorithm performance changes if you use a different `percentile` and/or `n_sessions`. Provide here some figures so we can see how the hyperparameters influence the performance.\n",
        "- __1.2__ (1 pts) Tune the algorithm to end up with positive average score.\n",
        "\n",
        "It's okay to modify the existing code.\n"
      ]
    },
    {
      "cell_type": "markdown",
      "metadata": {
        "id": "L88LySiVG9zN"
      },
      "source": [
        "```<Describe what you did here>```"
      ]
    },
    {
      "cell_type": "markdown",
      "metadata": {
        "id": "7LpAJc4rG9zN"
      },
      "source": [
        "# Homework part II\n",
        "\n",
        "### Deep crossentropy method\n",
        "\n",
        "By this moment, you should have got enough score on [CartPole-v0](https://gymnasium.farama.org/environments/classic_control/cart_pole/) to consider it solved (see the link). It's time to try something harder.\n",
        "\n",
        "* if you have any trouble with CartPole-v0 and feel stuck, feel free to ask us or your peers for help.\n",
        "\n",
        "### Tasks\n",
        "\n",
        "* __2.1__ (3 pts) Pick one of environments: `MountainCar-v0` or `LunarLander-v2`.\n",
        "  * For MountainCar, get average reward of __at least -150__\n",
        "  * For LunarLander, get average reward of __at least +50__\n",
        "\n",
        "See the tips section below, it's kinda important.\n",
        "__Note:__ If your agent is below the target score, you'll still get some of the points depending on the result, so don't be afraid to submit it.\n",
        "  \n",
        "  \n",
        "* __2.2__ (up to 6 pts) Devise a way to speed up training against the default version\n",
        "  * Obvious improvement: use [`joblib`](https://joblib.readthedocs.io/en/latest/). However, note that you will probably need to spawn a new environment in each of the workers instead of passing it via pickling. (2 pts)\n",
        "  * Try re-using samples from 3-5 last iterations when computing threshold and training. (2 pts)\n",
        "  * Obtain __-100__ at `MountainCar-v0` or __+200__ at `LunarLander-v2` (2 pts). Feel free to experiment with hyperparameters, architectures, schedules etc.\n",
        "  \n",
        "__Please list what you did in Anytask submission form__. This reduces probability that somebody misses something.\n",
        "  \n",
        "  \n",
        "### Tips\n",
        "* Gymnasium pages: [MountainCar](https://gymnasium.farama.org/environments/classic_control/mountain_car/), [LunarLander](https://gymnasium.farama.org/environments/box2d/lunar_lander/)\n",
        "* Sessions for MountainCar may last for 10k+ ticks. Make sure ```t_max``` param is at least 10k.\n",
        " * Also it may be a good idea to cut rewards via \">\" and not \">=\". If 90% of your sessions get reward of -10k and 10% are better, than if you use percentile 20% as threshold, R >= threshold __fails to cut off bad sessions__ while R > threshold works alright.\n",
        "* _issue with gym_: Some versions of gym limit game time by 200 ticks. This will prevent cem training in most cases. Make sure your agent is able to play for the specified __t_max__, and if it isn't, try `env = gym.make(\"MountainCar-v0\").env` or otherwise get rid of TimeLimit wrapper.\n",
        "* If you use old _swig_ lib for LunarLander-v2, you may get an error. See this [issue](https://github.com/openai/gym/issues/100) for solution.\n",
        "* If it doesn't train, it's a good idea to plot reward distribution and record sessions: they may give you some clue. If they don't, call course staff :)\n",
        "* 20-neuron network is probably not enough, feel free to experiment.\n",
        "\n",
        "You may find the following snippet useful:"
      ]
    },
    {
      "cell_type": "code",
      "execution_count": null,
      "metadata": {
        "id": "qcjz-nm_G9zN"
      },
      "outputs": [],
      "source": [
        "def visualize_mountain_car(env, agent):\n",
        "    # Compute policy for all possible x and v (with discretization)\n",
        "    xs = np.linspace(env.min_position, env.max_position, 100)\n",
        "    vs = np.linspace(-env.max_speed, env.max_speed, 100)\n",
        "\n",
        "    grid = np.dstack(np.meshgrid(xs, vs[::-1])).transpose(1, 0, 2)\n",
        "    grid_flat = grid.reshape(len(xs) * len(vs), 2)\n",
        "    probs = (\n",
        "        agent.predict_proba(grid_flat).reshape(len(xs), len(vs), 3).transpose(1, 0, 2)\n",
        "    )\n",
        "\n",
        "    # # The above code is equivalent to the following:\n",
        "    # probs = np.empty((len(vs), len(xs), 3))\n",
        "    # for i, v in enumerate(vs[::-1]):\n",
        "    #     for j, x in enumerate(xs):\n",
        "    #         probs[i, j, :] = agent.predict_proba([[x, v]])[0]\n",
        "\n",
        "    # Draw policy\n",
        "    f, ax = plt.subplots(figsize=(7, 7))\n",
        "    ax.imshow(\n",
        "        probs,\n",
        "        extent=(env.min_position, env.max_position, -env.max_speed, env.max_speed),\n",
        "        aspect=\"auto\",\n",
        "    )\n",
        "    ax.set_title(\"Learned policy: red=left, green=nothing, blue=right\")\n",
        "    ax.set_xlabel(\"position (x)\")\n",
        "    ax.set_ylabel(\"velocity (v)\")\n",
        "\n",
        "    # Sample a trajectory and draw it\n",
        "    states, actions, _ = generate_session(env, agent)\n",
        "    states = np.array(states)\n",
        "    ax.plot(states[:, 0], states[:, 1], color=\"white\")\n",
        "\n",
        "    # Draw every 3rd action from the trajectory\n",
        "    for (x, v), a in zip(states[::3], actions[::3]):\n",
        "        if a == 0:\n",
        "            plt.arrow(x, v, -0.1, 0, color=\"white\", head_length=0.02)\n",
        "        elif a == 2:\n",
        "            plt.arrow(x, v, 0.1, 0, color=\"white\", head_length=0.02)\n",
        "\n",
        "\n",
        "with gym.make(\"MountainCar-v0\", render_mode=\"rgb_arrary\").env as env:\n",
        "    visualize_mountain_car(env, agent)\n"
      ]
    },
    {
      "cell_type": "markdown",
      "metadata": {
        "id": "Dzk41lDPG9zO"
      },
      "source": [
        "### Bonus tasks\n",
        "\n",
        "* __2.3 bonus__ (2 pts) Try to find a network architecture and training params that solve __both__ environments above (_Points depend on implementation. If you attempted this task, please mention it in Anytask submission._)\n",
        "\n",
        "* __2.4 bonus__ (4 pts) Solve continuous action space task with `MLPRegressor` or similar.\n",
        "  * Since your agent only predicts the \"expected\" action, you will have to add noise to ensure exploration.\n",
        "  * Choose one of [MountainCarContinuous-v0](https://gymnasium.farama.org/environments/classic_control/mountain_car_continuous/) (90+ pts to solve), [LunarLanderContinuous-v2](https://gymnasium.farama.org/environments/box2d/lunar_lander/) (`env = gym.make(\"LunarLander-v2\", continuous=True)`)(200+ pts to solve)\n",
        "  * 4 points for solving. Slightly less for getting some results below solution threshold. Note that discrete and continuous environments may have slightly different rules, aside from action spaces."
      ]
    }
  ],
  "metadata": {
    "colab": {
      "provenance": [],
      "include_colab_link": true
    },
    "kernelspec": {
      "display_name": "Python 3",
      "language": "python",
      "name": "python3"
    },
    "language_info": {
      "codemirror_mode": {
        "name": "ipython",
        "version": 3
      },
      "file_extension": ".py",
      "mimetype": "text/x-python",
      "name": "python",
      "nbconvert_exporter": "python",
      "pygments_lexer": "ipython3",
      "version": "3.8.5"
    }
  },
  "nbformat": 4,
  "nbformat_minor": 0
}
